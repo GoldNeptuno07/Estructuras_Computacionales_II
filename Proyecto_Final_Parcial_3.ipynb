{
 "cells": [
  {
   "cell_type": "markdown",
   "id": "57ee0626",
   "metadata": {},
   "source": [
    "# Proyecto Final Parcial 3\n",
    "\n",
    "***Algoritmos de Proyecto Final:***\n",
    "\n",
    "- Unidad 3 \n",
    "\n",
    "  * Programas para hacer el pareo de un grafo normal.\n",
    "  * Programas para hacer el pareo de un grafo bipartido.\n",
    "  * N problemas y modelado correspondiente de Pareo en grafos. N = cantidad de integrantes / 2. Tratar en los N problemas exista al menos uno de cada tipo: pareos perfectos, pareos maximales mínimos y pareos maximales       máximos. \n",
    "  * Investigar el concepto de pareos maximales mínimos.\n",
    " \n",
    " - Unidad 4\n",
    "\n",
    "    * Programas Primero en Anchura y Primero en Profundidad para grafos dirigidos.\n",
    "    * Comparación DFS y BFS con los algoritmos de grafos dirigidos y grafos no dirigidos.\n",
    "    * N problemas y modelado correspondiente de grafos dirigidos ponderado o no. N = cantidad de integrantes / 2.\n",
    "\n",
    "**Realizar la fotografía de equipo: Indicar en una tabla de cada integrante el entendimiento de cada programa realizado.**\n",
    "\n",
    "![Python](https://th.bing.com/th/id/R.943803c137dc211e2279dbe80a17c401?rik=bS3wZ6WGrxGwtg&pid=ImgRaw&r=0)"
   ]
  },
  {
   "cell_type": "markdown",
   "id": "f1f9b56b",
   "metadata": {},
   "source": [
    "## **Algoritmos y Problemas de Unidad III**"
   ]
  },
  {
   "cell_type": "code",
   "execution_count": 1,
   "id": "b317bc8e",
   "metadata": {},
   "outputs": [],
   "source": [
    "class Unidad3:\n",
    "    def __init__(self):\n",
    "        pass\n",
    "    \n",
    "    def pareo_grafo(self):\n",
    "        pass\n",
    "    \n",
    "    def pareo_grafo_bipartido(self):\n",
    "        pass"
   ]
  },
  {
   "cell_type": "markdown",
   "id": "d09cbab0",
   "metadata": {},
   "source": [
    "### A continuacion se redactan los N *problemas* de ***Pareo de Grafos***.\n",
    "\n",
    "* **Problema 1:** Encuentre la determinante de la siguiente matriz.\n",
    "\n",
    "$ M = \\begin {pmatrix}\n",
    "    1 & 2 & 3\\\\\n",
    "    4 & 5 & 6\n",
    "    \\end {pmatrix} \\in \\mathbb R_{2\\times3}\n",
    "$\n",
    "\n",
    "\n",
    "* **Problema 2:** Encuentre una base para el siguiente vector.\n",
    "\n",
    "$\\vec{v} = (v_1, v_2, v_3, \\cdots, v_n) \\in \\mathbb R^n$\n",
    "\n",
    "\n",
    "* **Problema 3:** Calcule el siguiente determinante mediant cofactores.\n",
    "\n",
    "$\\det A =  \\begin {vmatrix}\n",
    "    8 & 4 & 1 & 4\\\\\n",
    "    9 & 1 & 3 & 1\\\\\n",
    "    1 & 2 & 5 & 43\\\\\n",
    "    \\end {vmatrix}$"
   ]
  },
  {
   "cell_type": "markdown",
   "id": "75e0cc1b",
   "metadata": {},
   "source": [
    "## **Algoritmos y Problemas de Unidad IV**\n",
    "\n",
    "Realizar una comparacion en los algoritmos de **Anchura y Profundidad** para grafos **dirigidos y no dirigidos**, se puede medir el tiempo de ejecucion de un algoritmo usando %%timeit al inicio de la celda."
   ]
  },
  {
   "cell_type": "code",
   "execution_count": 6,
   "id": "cc8f3225",
   "metadata": {},
   "outputs": [],
   "source": [
    "class Unidad4:\n",
    "    def __init__(self):\n",
    "        pass\n",
    "    \n",
    "    def anchura_grafo_dirigido(self):\n",
    "        pass\n",
    "    \n",
    "    def profundidad_grafo_dirigido(self):\n",
    "        pass\n",
    "    \n",
    "    def anchura_grafo_no_dirigido(self):\n",
    "        pass\n",
    "    \n",
    "    def profundidad_grafo_no_dirigido(self):\n",
    "        pass\n",
    "    "
   ]
  },
  {
   "cell_type": "markdown",
   "id": "8b2dd202",
   "metadata": {},
   "source": [
    "### A continuacion se redactan los N *problemas* de ***Pareo de Grafos***.\n",
    "\n",
    "* **Problema 1:** Encuentre la determinante de la siguiente matriz.\n",
    "\n",
    "$ M = \\begin {pmatrix}\n",
    "    1 & 2 & 3\\\\\n",
    "    4 & 5 & 6\n",
    "    \\end {pmatrix} \\in \\mathbb R_{2\\times3}\n",
    "$\n",
    "\n",
    "\n",
    "* **Problema 2:** Encuentre una base para el siguiente vector.\n",
    "\n",
    "$\\vec{v} = (v_1, v_2, v_3, \\cdots, v_n) \\in \\mathbb R^n$\n",
    "\n",
    "\n",
    "* **Problema 3:** Calcule el siguiente determinante mediant cofactores.\n",
    "\n",
    "$\\det A =  \\begin {vmatrix}\n",
    "    8 & 4 & 1 & 4\\\\\n",
    "    9 & 1 & 3 & 1\\\\\n",
    "    1 & 2 & 5 & 43\\\\\n",
    "    \\end {vmatrix}$"
   ]
  }
 ],
 "metadata": {
  "kernelspec": {
   "display_name": "Python 3 (ipykernel)",
   "language": "python",
   "name": "python3"
  },
  "language_info": {
   "codemirror_mode": {
    "name": "ipython",
    "version": 3
   },
   "file_extension": ".py",
   "mimetype": "text/x-python",
   "name": "python",
   "nbconvert_exporter": "python",
   "pygments_lexer": "ipython3",
   "version": "3.9.18"
  }
 },
 "nbformat": 4,
 "nbformat_minor": 5
}
