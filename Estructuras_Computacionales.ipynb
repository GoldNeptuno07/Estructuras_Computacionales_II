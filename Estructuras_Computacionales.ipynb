{
 "cells": [
  {
   "cell_type": "markdown",
   "id": "c8fde11d",
   "metadata": {},
   "source": [
    "# Proyecto Final Parcial 2!!\n",
    "### Estructuras Computacionales\n",
    "\n",
    "En este jupyter notebook se muestran los __algoritmos__ realizados durante el curso de __Estructuras Computacionales II__, los cuales son listados a continuacion.\n",
    "\n",
    "* Matriz de Adyacencia.\n",
    "* Lista de Adyacencia.\n",
    "* Recorrido de anchura.\n",
    "* Recorrido en profundidad.\n",
    "* Grafo conexo.\n",
    "* Algoritmo de dijkstra.\n",
    "\n",
    "Nota. Todos estos algoritmos estaran compuestos de en un solo archivo .py, para mantener el codigo correctamente organizado haremos uso de la POO."
   ]
  },
  {
   "cell_type": "markdown",
   "id": "bedc5564",
   "metadata": {},
   "source": [
    "#### Main Class\n",
    "Clase principal que contendra todos los __algoritmos__.\n",
    "\n",
    "Hagan sus programas en el metodo que le corresponde, si quieren definir variables que se inicializen \n",
    "al instanciar la clase de **Estructuras_Computacionales** ponganlas en el metodo **init** y comenten arriba del metodo colocando el algoritmo que estan desarrollando y para que es la variable que estan definiendo. Si quieren pueden utilizar variables de otros.\n",
    "\n",
    "Para definir las variables deben usar '**self.variable = valor**' si quieren que el metodo sea privado usen\n",
    "'**self.\\__variable = valor**', y ya."
   ]
  },
  {
   "cell_type": "markdown",
   "id": "f48fda24",
   "metadata": {},
   "source": [
    "Cuando esten en github hagan un **fork** del repositorio del codigo para que lo copien, despues creen una rama que tenga el nombre del algoritmo que estan haciendo para que empiezen a hacer su parte."
   ]
  },
  {
   "cell_type": "code",
   "execution_count": 30,
   "id": "663b51f3",
   "metadata": {},
   "outputs": [],
   "source": [
    "import heapq\n",
    "import numpy as np"
   ]
  },
  {
   "cell_type": "code",
   "execution_count": 31,
   "id": "c31d63ce",
   "metadata": {},
   "outputs": [],
   "source": [
    "\n",
    "class Unidad2:\n",
    "    \"\"\"\n",
    "        La variable 'M_Adyacencia' es la matriz de adyacencia que se capturara en durante la ejecucion del método Matriz_Adyacencia.\n",
    "        \n",
    "        La variable 'lista' será utilizada para obtener una lista de adyancia que representará un grafo que sera capturado con el método Lista_Adyacencia.\n",
    "    \n",
    "        La variable 'matriz' es un grafo de ejemplo definido como su matriz de adyacencia ya que es necesaria para el algoritmo de componentes conexas.\n",
    "        El metodo 'Grafo_Conexo' usa la variable 'matriz', la modifica para calcular la matriz de caminos e imprime las componentes conexas resultantes.\n",
    "    \"\"\"\n",
    "    def __init__(self, numNodos=1, vertices=[1]):\n",
    "        self.M_Adyacencia = np.zeros([numNodos, numNodos])\n",
    "        \n",
    "        self.lista = {v: [] for v in vertices}\n",
    "        \n",
    "        self.matriz = [[0, 0, 0, 1, 1, 0],\n",
    "                       [0, 0, 0, 0, 0, 0],\n",
    "                       [0, 0, 0, 0, 0, 1],\n",
    "                       [1, 1, 1, 0, 0, 0],\n",
    "                       [0, 1, 1, 0, 0, 1],\n",
    "                       [0, 0, 0, 0, 1, 0]]\n",
    "        \n",
    "        self.grafo = {\n",
    "                        0: {3: 1, 4: 1},\n",
    "                        1: {},\n",
    "                        2: {5: 1},\n",
    "                        3: {0: 1, 1: 1, 2: 1},\n",
    "                        4: {1: 1, 2: 1, 5: 1},\n",
    "                        5: {4: 1}}\n",
    "\n",
    "\n",
    "    def Matriz_Adyacencia(self, numAristas):\n",
    "        # Captura de los aristas del grafo no dirigido\n",
    "        for i in range(numAristas):\n",
    "            nodo1 = int(input(\"Ingresa el 1er vertice: \"))\n",
    "            nodo2 = int(input(\"ingresa el 2do vertice: \"))\n",
    "            self.M_Adyacencia[nodo1][nodo2] = 1\n",
    "            self.M_Adyacencia[nodo2][nodo1] = 1\n",
    "        \n",
    "        # Impresion de la matriz de adyacencia\n",
    "        print(self.M_Adyacencia)\n",
    "\n",
    "    def Lista_Adyacencia(self, numAristas):\n",
    "        # Captura de los aristas del grafo dirigido\n",
    "        for i in range(numAristas):\n",
    "            u = input(\"Ingrese el 1er vertice: \")\n",
    "            v = input(\"Ingrese el 2do vertice: \")\n",
    "            self.lista[u].append(v)\n",
    "        \n",
    "        # Impresion de la lista de adyacencia\n",
    "        for nodo, adyacentes in self.lista.items():\n",
    "            print(f'{nodo}: {adyacentes}')\n",
    "\n",
    "    def Recorrido_Anchura(self):\n",
    "        self.__cola = []    # Lista para representar la cola\n",
    "        self.__cola.append(0)   # Metemos a la cola el 0 para representar el vertice A\n",
    "        self.__visitados = [True, False, False, False, False, False]\n",
    "        \n",
    "        print(\"El recorrido por anchura es: \")\n",
    "        while(len(self.__cola) != 0):   # Mientras la cola no este vacia\n",
    "            element = self.__cola.pop(0)    # Sacamos el primer elemento de la cola\n",
    "            print(chr(element + 65))\n",
    "            \n",
    "            for i, relacion in enumerate(self.matriz[element]):    # Checamos las relaciones del nodo actual con todos los demas nodos\n",
    "                if relacion == 1 and self.__visitados[i] == False: # Si aun no se visita el nodo y se tiene relacion (1) con otro nodo, este se mete a la cola y se marca como visitado\n",
    "                        self.__visitados[i] = True\n",
    "                        self.__cola.append(i)\n",
    "\n",
    "    def Recorrido_Profundidad(self):\n",
    "        self.__pila = []    # Lista para representar la pila\n",
    "        self.__pila.append(0)   # Metemos a la pila el 0 para representar el vertice A\n",
    "        self.__visitados = [True, False, False, False, False, False]\n",
    "        \n",
    "        print(\"El recorrido por profundidad es: \")\n",
    "        while(len(self.__pila) != 0):   # Mientras la cola no este vacia\n",
    "            element = self.__pila.pop()  # Sacamos el ultimo elemento de la pila\n",
    "            print(chr(element + 65))\n",
    "            \n",
    "            for i, relacion in enumerate(self.matriz[element]):    # Checamos las relaciones del nodo actual con todos los demas nodos\n",
    "                if relacion == 1 and self.__visitados[i] == False:  # Si aun no se visita el nodo y si hay relacion (1) con otro nodo, este se mete a la pila y se marca como visitado\n",
    "                        self.__visitados[i] = True\n",
    "                        self.__pila.append(i)\n",
    "\n",
    "    def Grafo_Conexo(self):\n",
    "        self.__tam_matriz = len(self.matriz) #Tamano de la matriz o numero de vertices.\n",
    "        self.__vertices = list(range(self.__tam_matriz)) #Vector auxiliar para saber el orden de los nodos una vez que se modifique la matriz.\n",
    "\n",
    "        # Ciclo para llenar la diagonal principal con unos.\n",
    "        for i in range(self.__tam_matriz):\n",
    "            self.matriz[i][i] = 1\n",
    "\n",
    "        # Ciclo para calcular la matriz de caminos.\n",
    "        for i in range(self.__tam_matriz):\n",
    "            j = 0\n",
    "            temp = [False for k in range(self.__tam_matriz)] #Vector temporal para saber los nodos 'visitados'.\n",
    "            temp[i] = True\n",
    "            while j < self.__tam_matriz:\n",
    "                if self.matriz[i][j] == 1 and not temp[j]:\n",
    "                    for k, n in enumerate(self.matriz[j]):\n",
    "                        self.matriz[i][k] = n if n == 1 else self.matriz[i][k]\n",
    "                    temp[j] = True\n",
    "                    j = 0\n",
    "                    continue\n",
    "                j += 1\n",
    "\n",
    "        # Metodo de la burbuja para ordenar las filas de la matriz.\n",
    "        for i in range(self.__tam_matriz - 1):\n",
    "            for j in range(i + 1, self.__tam_matriz):\n",
    "                if self.matriz[i].count(1) < self.matriz[j].count(1):\n",
    "                    self.matriz[j], self.matriz[i] = self.matriz[i], self.matriz[j]\n",
    "                    self.__vertices[j], self.__vertices[i] = self.__vertices[i], self.__vertices[j] #Cambio del orden de los nodos en el vector auxiliar.\n",
    "\n",
    "        # Metodo de la burbuja para ordenar las columnas de la matriz.\n",
    "        for i in range(self.__tam_matriz - 1):\n",
    "            coli = [self.matriz[k][i] for k in range(self.__tam_matriz)]\n",
    "            for j in range(i + 1, self.__tam_matriz):\n",
    "                colj = [self.matriz[k][j] for k in range(self.__tam_matriz)]\n",
    "                if coli.count(1) > colj.count(1):\n",
    "                    for k in range(self.__tam_matriz):\n",
    "                        self.matriz[k][i], self.matriz[k][j] = self.matriz[k][j], self.matriz[k][i]\n",
    "                    coli, colj = colj, coli\n",
    "\n",
    "        # Resultado\n",
    "        print('Componentes conexas:')\n",
    "        print('v1 = {', end = '')\n",
    "        contador = 1\n",
    "        for i in range(self.__tam_matriz - 1):\n",
    "            print(chr(self.__vertices[i] + 65), end = '')\n",
    "            if (self.matriz[i + 1][i] == 0):\n",
    "                print('}')\n",
    "                contador += 1\n",
    "                print(f'v{contador} = {{', end = '')\n",
    "                continue\n",
    "            print(', ', end = '')\n",
    "        print(f'{chr(self.__vertices[-1] + 65)}}}')\n",
    "\n",
    "##------------------------------------------- ALGORITMO DE DIJKSTRA ----------------------------------------------------------------\n",
    "    def Dijkstra(self, grafo, inicio):\n",
    "            #Inicializar las distancias y el conjunto de nodos visitados\n",
    "        distancias = {nodo: float('inf') for nodo in grafo}\n",
    "        distancias[inicio] = 0\n",
    "\n",
    "        #Usar una cola de prioridad para mantener los nodos no visitados\n",
    "        cola_prioridad = [(0, inicio)]\n",
    "\n",
    "        while cola_prioridad:\n",
    "            #Obtener el nodo con la distancia más corta\n",
    "            distancia_actual, nodo_actual = heapq.heappop(cola_prioridad)\n",
    "\n",
    "            #Si la distancia actual es mayor que la conocida, ignorar este nodo\n",
    "            if distancia_actual > distancias[nodo_actual]:\n",
    "                continue\n",
    "\n",
    "            #Explorar los nodos vecinos del nodo actual\n",
    "            for vecino, peso in grafo[nodo_actual].items():\n",
    "                distancia = distancia_actual + peso\n",
    "\n",
    "                #Si encontramos una distancia más corta, actualizar\n",
    "                if distancia < distancias[vecino]:\n",
    "                    distancias[vecino] = distancia\n",
    "                    #Agregar el vecino a la cola de prioridad\n",
    "                    heapq.heappush(cola_prioridad, (distancia, vecino))\n",
    "        return distancias"
   ]
  },
  {
   "cell_type": "code",
   "execution_count": 32,
   "id": "a045770b",
   "metadata": {},
   "outputs": [],
   "source": [
    "obj = Unidad2()"
   ]
  },
  {
   "cell_type": "markdown",
   "id": "f303c60f",
   "metadata": {},
   "source": [
    "Matriz de Adyacencia"
   ]
  },
  {
   "cell_type": "code",
   "execution_count": 10,
   "id": "9cac14aa",
   "metadata": {},
   "outputs": [
    {
     "name": "stdout",
     "output_type": "stream",
     "text": [
      "Los vertices son: 0, 1, 2, 3, 4, \n",
      "[[0. 1. 0. 1. 0.]\n",
      " [1. 0. 0. 1. 0.]\n",
      " [0. 0. 0. 1. 0.]\n",
      " [1. 1. 1. 0. 1.]\n",
      " [0. 0. 0. 1. 0.]]\n"
     ]
    }
   ],
   "source": [
    "numNodos = int(input(\"Ingresa numero de nodos del grafo: \"))\n",
    "numAristas = int(input(\"Ingresa numero de aristas del grafo: \"))\n",
    "\n",
    "print(\"Los vertices son:\", end=\" \")\n",
    "for i in range(numNodos):\n",
    "    print(i, end=\", \")\n",
    "print()\n",
    "\n",
    "matriz = Unidad2(numNodos)\n",
    "matriz.Matriz_Adyacencia(numAristas)"
   ]
  },
  {
   "cell_type": "markdown",
   "id": "f602a200",
   "metadata": {},
   "source": [
    "Lista de Adyacencia"
   ]
  },
  {
   "cell_type": "code",
   "execution_count": null,
   "id": "4fb2fb85",
   "metadata": {},
   "outputs": [
    {
     "name": "stdout",
     "output_type": "stream",
     "text": [
      "Los vertices son:  ['A', 'B', 'C', 'D', 'E']\n",
      "A: ['B', 'C']\n",
      "B: ['D', 'E']\n",
      "C: ['D']\n",
      "D: ['A']\n",
      "E: ['D', 'E']\n"
     ]
    }
   ],
   "source": [
    "numNodos = int(input(\"Ingrese el numero de vertices: \"))\n",
    "numAristas = int(input(\"Ingrese el numero de aristas: \"))\n",
    "\n",
    "vertices = []\n",
    "\n",
    "for i in range(numNodos):\n",
    "    vertices.append(chr(i + 65))\n",
    "\n",
    "print(\"Los vertices son: \", vertices)\n",
    "\n",
    "lista = Unidad2(numNodos, vertices)\n",
    "lista.Lista_Adyacencia(numAristas)"
   ]
  },
  {
   "cell_type": "markdown",
   "id": "d44d3768",
   "metadata": {},
   "source": [
    "Recorrido en Anchura"
   ]
  },
  {
   "cell_type": "code",
   "execution_count": 14,
   "id": "fbba7801",
   "metadata": {},
   "outputs": [
    {
     "name": "stdout",
     "output_type": "stream",
     "text": [
      "El recorrido por anchura es: \n",
      "A\n",
      "D\n",
      "E\n",
      "B\n",
      "C\n",
      "F\n"
     ]
    }
   ],
   "source": [
    "obj.Recorrido_Anchura()"
   ]
  },
  {
   "cell_type": "markdown",
   "id": "dddc74c0",
   "metadata": {},
   "source": [
    "Recorrido en Profundidad"
   ]
  },
  {
   "cell_type": "code",
   "execution_count": 15,
   "id": "63abc937",
   "metadata": {},
   "outputs": [
    {
     "name": "stdout",
     "output_type": "stream",
     "text": [
      "El recorrido por profundidad es: \n",
      "A\n",
      "E\n",
      "F\n",
      "C\n",
      "B\n",
      "D\n"
     ]
    }
   ],
   "source": [
    "obj.Recorrido_Profundidad()"
   ]
  },
  {
   "cell_type": "markdown",
   "id": "9dc9c98f",
   "metadata": {},
   "source": [
    "Algoritmo de Dijkstra"
   ]
  },
  {
   "cell_type": "code",
   "execution_count": 6,
   "id": "bb1bc326",
   "metadata": {},
   "outputs": [
    {
     "name": "stdout",
     "output_type": "stream",
     "text": [
      "Distancias más cortas desde el nodo 0: {0: 0, 1: 2, 2: 2, 3: 1, 4: 1, 5: 2}\n"
     ]
    }
   ],
   "source": [
    "nodo_inicio = 0\n",
    "resultado = obj.Dijkstra(obj.grafo, nodo_inicio)\n",
    "print(f\"Distancias más cortas desde el nodo {nodo_inicio}: {resultado}\")"
   ]
  },
  {
   "cell_type": "markdown",
   "id": "b6d858aa",
   "metadata": {},
   "source": [
    "Grafo Conexo"
   ]
  },
  {
   "cell_type": "code",
   "execution_count": 7,
   "id": "fbe2a284",
   "metadata": {},
   "outputs": [
    {
     "name": "stdout",
     "output_type": "stream",
     "text": [
      "Componentes conexas:\n",
      "v1 = {A, D}\n",
      "v2 = {C, E, F}\n",
      "v3 = {B}\n"
     ]
    }
   ],
   "source": [
    "obj.Grafo_Conexo()"
   ]
  },
  {
   "cell_type": "markdown",
   "id": "31abb838",
   "metadata": {},
   "source": [
    "# Proyecto Final Parcial 3!!\n",
    "\n",
    "***Algoritmos de Proyecto Final:***\n",
    "\n",
    "- Unidad 3 \n",
    "\n",
    "  * Programas para hacer el pareo de un grafo normal.\n",
    "  * Programas para hacer el pareo de un grafo bipartido.\n",
    "  * N problemas y modelado correspondiente de Pareo en grafos. N = cantidad de integrantes / 2. Tratar en los N problemas exista al menos uno de cada tipo: pareos perfectos, pareos maximales mínimos y pareos maximales       máximos. \n",
    "  * Investigar el concepto de pareos maximales mínimos.\n",
    " \n",
    " - Unidad 4\n",
    "\n",
    "    * Programas Primero en Anchura y Primero en Profundidad para grafos dirigidos.\n",
    "    * Comparación DFS y BFS con los algoritmos de grafos dirigidos y grafos no dirigidos.\n",
    "    * N problemas y modelado correspondiente de grafos dirigidos ponderado o no. N = cantidad de integrantes / 2.\n",
    "\n",
    "**Realizar la fotografía de equipo: Indicar en una tabla de cada integrante el entendimiento de cada programa realizado.**\n",
    "\n",
    "![Python](https://th.bing.com/th/id/R.943803c137dc211e2279dbe80a17c401?rik=bS3wZ6WGrxGwtg&pid=ImgRaw&r=0)"
   ]
  },
  {
   "cell_type": "markdown",
   "id": "a6e08bab",
   "metadata": {},
   "source": [
    "## **Algoritmos y Problemas de Unidad III**"
   ]
  },
  {
   "cell_type": "code",
   "execution_count": 33,
   "id": "6099e347",
   "metadata": {},
   "outputs": [],
   "source": [
    "class Unidad3:\n",
    "    def __init__(self):\n",
    "        pass\n",
    "\n",
    "    def pareo_grafo(self):\n",
    "        pass\n",
    "\n",
    "    def pareo_grafo_bipartido(self):\n",
    "        pass"
   ]
  },
  {
   "cell_type": "markdown",
   "id": "e5076f82",
   "metadata": {},
   "source": [
    "### A continuacion se redactan los N *problemas* de ***Pareo de Grafos***.\n",
    "\n",
    "* **Problema 1:** Encuentre la determinante de la siguiente matriz.\n",
    "\n",
    "$ M = \\begin {pmatrix}\n",
    "    1 & 2 & 3\\\\\n",
    "    4 & 5 & 6\n",
    "    \\end {pmatrix} \\in \\mathbb R_{2\\times3}\n",
    "$\n",
    "\n",
    "\n",
    "* **Problema 2:** Encuentre una base para el siguiente vector.\n",
    "\n",
    "$\\vec{v} = (v_1, v_2, v_3, \\cdots, v_n) \\in \\mathbb R^n$\n",
    "\n",
    "\n",
    "* **Problema 3:** Calcule el siguiente determinante mediant cofactores.\n",
    "\n",
    "$\\det A =  \\begin {vmatrix}\n",
    "    8 & 4 & 1 & 4\\\\\n",
    "    9 & 1 & 3 & 1\\\\\n",
    "    1 & 2 & 5 & 43\\\\\n",
    "    \\end {vmatrix}$\n",
    "\n",
    "* **Problema 4:** Encuentre una base para el siguiente vector.\n",
    "\n",
    "$\\vec{v} = (v_1, v_2, v_3, \\cdots, v_n) \\in \\mathbb R^n$\n",
    "\n",
    "\n",
    "* **Problema 5:** Calcule el siguiente determinante mediant cofactores.\n",
    "\n",
    "$\\det A =  \\begin {vmatrix}\n",
    "    8 & 4 & 1 & 4\\\\\n",
    "    9 & 1 & 3 & 1\\\\\n",
    "    1 & 2 & 5 & 43\\\\\n",
    "    \\end {vmatrix}$"
   ]
  },
  {
   "cell_type": "markdown",
   "id": "6b6bc421",
   "metadata": {},
   "source": [
    "### Investigacion sobre pareos maximales mínimos\n",
    "\n",
    "Inspired by the many excellent lorem ipsum generators, this simple webapp generates placeholder text. However, instead of generating plain text, this generator gives you structured text in the form of markdown. In order to do so, it uses Markov Chains and many heuristics. It was written in Haskell and the source code is available on GitHub. Crafted with a lot of love for the markdown format by Jasper Van der Jeugt. An HTTP API is also available!\n",
    "\n",
    "Quidem habitavit verso conlucere: alendi et solae, et, tristis sine omne est?\n",
    "Dare consorte maciem, **est neque vacuas** et locutus? Maior secuta silva\n",
    "volucres telluris mirantur monte, victa fui pariter vocat uterque color elisa,\n",
    "non via causa navem.\n",
    "\n",
    "Persequar contendisse tandem Pelia lactentis longius quamquam deus, lumina\n",
    "cognoscere impedit incerto sedes. Oculis lyncas amnes canem, vimque quas dare;\n",
    "vulnere remigioque claro surgimus forma turba tibi confiteorque. Sublime, debueram, actusque; in, di toto tempestiva\n",
    "inops, nec filis, ruris."
   ]
  },
  {
   "cell_type": "markdown",
   "id": "1384737b",
   "metadata": {},
   "source": [
    "## **Algoritmos y Problemas de Unidad IV**\n",
    "\n",
    "Realizar una comparacion en los algoritmos de **Anchura y Profundidad** para grafos **dirigidos y no dirigidos**, se puede medir el tiempo de ejecucion de un algoritmo usando %%timeit al inicio de la celda."
   ]
  },
  {
   "cell_type": "code",
   "execution_count": 78,
   "id": "239e7962",
   "metadata": {},
   "outputs": [],
   "source": [
    "class Unidad4:\n",
    "    def __init__(self):\n",
    "        self.grafo_ND = [\n",
    "            [0, 1, 1, 0, 1, 0],\n",
    "            [1, 0, 0, 1, 0, 0],\n",
    "            [1, 0, 0, 1, 1, 0],\n",
    "            [0, 1, 1, 0, 0, 1],\n",
    "            [1, 0, 1, 0, 0, 1],\n",
    "            [0, 0, 0, 1, 1, 0],\n",
    "        ]\n",
    "\n",
    "        self.grafo_D = [\n",
    "            [0, 1, 0, 0, 1, 0],\n",
    "            [0, 0, 0, 1, 0, 0],\n",
    "            [1, 0, 0, 0, 0, 0],\n",
    "            [0, 0, 1, 0, 0, 1],\n",
    "            [0, 0, 1, 0, 0, 0],\n",
    "            [0, 0, 0, 0, 1, 0],\n",
    "        ]\n",
    "\n",
    "    def anchura_grafo_dirigido(self):\n",
    "        self.__cola = []  # Lista para representar la cola\n",
    "        self.__cola.append(0)  # Metemos a la cola el 0 para representar el vertice A\n",
    "        self.__visitados = [True, False, False, False, False, False]\n",
    "\n",
    "        print(\"El recorrido por anchura es: \")\n",
    "        while len(self.__cola) != 0:  # Mientras la cola no este vacia\n",
    "            element = self.__cola.pop(0)  # Sacamos el primer elemento de la cola\n",
    "            print(chr(element + 65))\n",
    "\n",
    "            for i, relacion in enumerate(\n",
    "                self.grafo_D[element]\n",
    "            ):  # Checamos las relaciones del nodo actual con todos los demas nodos\n",
    "                if (\n",
    "                    relacion and self.__visitados[i] == False\n",
    "                ):  # Si aun no se visita el nodo y se tiene relacion (1) con otro nodo, este se mete a la cola y se marca como visitado\n",
    "                    self.__visitados[i] = True\n",
    "                    self.__cola.append(i)\n",
    "\n",
    "    def profundidad_grafo_dirigido(self):\n",
    "        self.__pila = []  # Lista para representar la pila\n",
    "        self.__pila.append(0)  # Metemos a la pila el 0 para representar el vertice A\n",
    "        self.__visitados = [True, False, False, False, False, False]\n",
    "\n",
    "        print(\"El recorrido por profundidad es: \")\n",
    "        while len(self.__pila) != 0:  # Mientras la cola no este vacia\n",
    "            element = self.__pila.pop()  # Sacamos el ultimo elemento de la pila\n",
    "            print(chr(element + 65))\n",
    "\n",
    "            for i, relacion in enumerate(\n",
    "                self.grafo_D[element]\n",
    "            ):  # Checamos las relaciones del nodo actual con todos los demas nodos\n",
    "                if (\n",
    "                    relacion and self.__visitados[i] == False\n",
    "                ):  # Si aun no se visita el nodo y se tiene relacion (1) con otro nodo, este se mete a la cola y se marca como visitado\n",
    "                    self.__visitados[i] = True\n",
    "                    self.__pila.append(i)\n",
    "\n",
    "    def anchura_grafo_no_dirigido(self):\n",
    "        self.__cola = []  # Lista para representar la cola\n",
    "        self.__cola.append(0)  # Metemos a la cola el 0 para representar el vertice A\n",
    "        self.__visitados = [True, False, False, False, False, False]\n",
    "\n",
    "        print(\"El recorrido por anchura es: \")\n",
    "        while len(self.__cola) != 0:  # Mientras la cola no este vacia\n",
    "            element = self.__cola.pop(0)  # Sacamos el primer elemento de la cola\n",
    "            print(chr(element + 65))\n",
    "\n",
    "            for i, relacion in enumerate(\n",
    "                self.grafo_ND[element]\n",
    "            ):  # Checamos las relaciones del nodo actual con todos los demas nodos\n",
    "                if (\n",
    "                    relacion and self.__visitados[i] == False\n",
    "                ):  # Si aun no se visita el nodo y se tiene relacion (1) con otro nodo, este se mete a la cola y se marca como visitado\n",
    "                    self.__visitados[i] = True\n",
    "                    self.__cola.append(i)\n",
    "\n",
    "    def profundidad_grafo_no_dirigido(self):\n",
    "        self.__pila = []  # Lista para representar la cola\n",
    "        self.__pila.append(0)  # Metemos a la cola el 0 para representar el vertice A\n",
    "        self.__visitados = [True, False, False, False, False, False]\n",
    "\n",
    "        print(\"El recorrido por anchura es: \")\n",
    "        while len(self.__pila) != 0:  # Mientras la cola no este vacia\n",
    "            element = self.__pila.pop()  # Sacamos el primer elemento de la cola\n",
    "            print(chr(element + 65))\n",
    "\n",
    "            for i, relacion in enumerate(\n",
    "                self.grafo_ND[element]\n",
    "            ):  # Checamos las relaciones del nodo actual con todos los demas nodos\n",
    "                if (\n",
    "                    relacion and self.__visitados[i] == False\n",
    "                ):  # Si aun no se visita el nodo y se tiene relacion (1) con otro nodo, este se mete a la cola y se marca como visitado\n",
    "                    self.__visitados[i] = True\n",
    "                    self.__pila.append(i)"
   ]
  },
  {
   "cell_type": "code",
   "execution_count": 80,
   "id": "dd95ea79",
   "metadata": {},
   "outputs": [],
   "source": [
    "obj = Unidad4()"
   ]
  },
  {
   "cell_type": "code",
   "execution_count": 35,
   "id": "ae735525",
   "metadata": {},
   "outputs": [
    {
     "name": "stdout",
     "output_type": "stream",
     "text": [
      "El recorrido por anchura es: \n",
      "A\n",
      "D\n",
      "E\n",
      "B\n",
      "C\n",
      "F\n"
     ]
    }
   ],
   "source": [
    "obj.anchura_grafo_dirigido()"
   ]
  },
  {
   "cell_type": "code",
   "execution_count": 73,
   "id": "cdafa81e",
   "metadata": {},
   "outputs": [
    {
     "name": "stdout",
     "output_type": "stream",
     "text": [
      "El recorrido por anchura es: \n",
      "A\n",
      "D\n",
      "E\n",
      "F\n",
      "C\n"
     ]
    }
   ],
   "source": [
    "obj.anchura_grafo_no_dirigido()"
   ]
  },
  {
   "cell_type": "code",
   "execution_count": 74,
   "id": "2137b1bd",
   "metadata": {},
   "outputs": [
    {
     "name": "stdout",
     "output_type": "stream",
     "text": [
      "El recorrido por profundidad es: \n",
      "A\n",
      "E\n",
      "F\n",
      "C\n",
      "B\n",
      "D\n"
     ]
    }
   ],
   "source": [
    "obj.profundidad_grafo_dirigido()"
   ]
  },
  {
   "cell_type": "code",
   "execution_count": 81,
   "id": "510706b2",
   "metadata": {},
   "outputs": [
    {
     "name": "stdout",
     "output_type": "stream",
     "text": [
      "El recorrido por anchura es: \n",
      "A\n",
      "E\n",
      "F\n",
      "C\n",
      "D\n"
     ]
    }
   ],
   "source": [
    "obj.profundidad_grafo_no_dirigido()"
   ]
  },
  {
   "cell_type": "markdown",
   "id": "e44b7868",
   "metadata": {},
   "source": [
    "### Comparacion de DFS y BFS\n",
    "\n",
    "Inspired by the many excellent lorem ipsum generators, this simple webapp generates placeholder text. However, instead of generating plain text, this generator gives you structured text in the form of markdown. In order to do so, it uses Markov Chains and many heuristics. It was written in Haskell and the source code is available on GitHub. Crafted with a lot of love for the markdown format by Jasper Van der Jeugt. An HTTP API is also available!\n",
    "\n",
    "Quidem habitavit verso conlucere: alendi et solae, et, tristis sine omne est?\n",
    "Dare consorte maciem, **est neque vacuas** et locutus? Maior secuta silva\n",
    "volucres telluris mirantur monte, victa fui pariter vocat uterque color elisa,\n",
    "non via causa navem.\n",
    "\n",
    "Persequar contendisse tandem Pelia lactentis longius quamquam deus, lumina\n",
    "cognoscere impedit incerto sedes. Oculis lyncas amnes canem, vimque quas dare;\n",
    "vulnere remigioque claro surgimus forma turba tibi confiteorque. Sublime, debueram, actusque; in, di toto tempestiva\n",
    "inops, nec filis, ruris."
   ]
  },
  {
   "cell_type": "markdown",
   "id": "42a282cc",
   "metadata": {},
   "source": [
    "### A continuacion se redactan los N *problemas* de ***Pareo de Grafos***.\n",
    "\n",
    "* **Problema 1:** Encuentre la determinante de la siguiente matriz.\n",
    "\n",
    "$ M = \\begin {pmatrix}\n",
    "    1 & 2 & 3\\\\\n",
    "    4 & 5 & 6\n",
    "    \\end {pmatrix} \\in \\mathbb R_{2\\times3}\n",
    "$\n",
    "\n",
    "\n",
    "* **Problema 2:** Encuentre una base para el siguiente vector.\n",
    "\n",
    "$\\vec{v} = (v_1, v_2, v_3, \\cdots, v_n) \\in \\mathbb R^n$\n",
    "\n",
    "\n",
    "* **Problema 3:** Calcule el siguiente determinante mediant cofactores.\n",
    "\n",
    "$\\det A =  \\begin {vmatrix}\n",
    "    8 & 4 & 1 & 4\\\\\n",
    "    9 & 1 & 3 & 1\\\\\n",
    "    1 & 2 & 5 & 43\\\\\n",
    "    \\end {vmatrix}$\n",
    "\n",
    "* **Problema 4:** Encuentre la determinante de la siguiente matriz.\n",
    "\n",
    "$ M = \\begin {pmatrix}\n",
    "    1 & 2 & 3\\\\\n",
    "    4 & 5 & 6\n",
    "    \\end {pmatrix} \\in \\mathbb R_{2\\times3}\n",
    "$\n",
    "\n",
    "\n",
    "* **Problema 5:** Encuentre una base para el siguiente vector.\n",
    "\n",
    "$\\vec{v} = (v_1, v_2, v_3, \\cdots, v_n) \\in \\mathbb R^n$"
   ]
  }
 ],
 "metadata": {
  "kernelspec": {
   "display_name": "Python 3 (ipykernel)",
   "language": "python",
   "name": "python3"
  },
  "language_info": {
   "codemirror_mode": {
    "name": "ipython",
    "version": 3
   },
   "file_extension": ".py",
   "mimetype": "text/x-python",
   "name": "python",
   "nbconvert_exporter": "python",
   "pygments_lexer": "ipython3",
   "version": "3.9.18"
  }
 },
 "nbformat": 4,
 "nbformat_minor": 5
}
