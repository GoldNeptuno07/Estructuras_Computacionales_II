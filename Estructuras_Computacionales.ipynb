{
 "cells": [
  {
   "cell_type": "markdown",
   "id": "c8fde11d",
   "metadata": {},
   "source": [
    "# Proyecto Final !!\n",
    "### Estructuras Computacionales\n",
    "\n",
    "En este jupyter notebook se muestran los __algoritmos__ realizados durante el curso de __Estructuras Computacionales II__, los cuales son listados a continuacion.\n",
    "\n",
    "* Matriz de Adyacencia.\n",
    "* Lista de Adyacencia.\n",
    "* Recorrido de anchura.\n",
    "* Recorrido en profundidad.\n",
    "* Grafo conexo.\n",
    "* Algoritmo de dijkstra.\n",
    "\n",
    "Nota. Todos estos algoritmos estaran compuestos de en un solo archivo .py, para mantener el codigo correctamente organizado haremos uso de la POO."
   ]
  },
  {
   "cell_type": "markdown",
   "id": "bedc5564",
   "metadata": {},
   "source": [
    "#### Main Class\n",
    "Clase principal que contendra todos los __algoritmos__.\n",
    "\n",
    "Hagan sus programas en el metodo que le corresponde, si quieren definir variables que se inicializen \n",
    "al instanciar la clase de **Estructuras_Computacionales** ponganlas en el metodo **init** y comenten arriba del metodo colocando el algoritmo que estan desarrollando y para que es la variable que estan definiendo. Si quieren pueden utilizar variables de otros **me vale madres mientras funcione**.\n",
    "\n",
    "Para definir las variables deben usar '**self.variable = valor**' si quieren que el metodo sea privado usen\n",
    "'**self.\\__variable = valor**', y ya."
   ]
  },
  {
   "cell_type": "code",
   "execution_count": 2,
   "metadata": {},
   "outputs": [],
   "source": [
    "import heapq\n",
    "import numpy as np"
   ]
  },
  {
   "cell_type": "markdown",
   "id": "f48fda24",
   "metadata": {},
   "source": [
    "Cuando esten en github hagan un **fork** del repositorio del codigo para que lo copien, despues creen una rama que tenga el nombre del algoritmo que estan haciendo para que empiezen a hacer su parte."
   ]
  },
  {
   "cell_type": "code",
   "execution_count": 3,
   "id": "c31d63ce",
   "metadata": {},
   "outputs": [],
   "source": [
    "\n",
    "class Estructuras_Computacionales:\n",
    "    \"\"\"\n",
    "        La variable 'M_Adyacencia' es la matriz de adyacencia que se capturara en durante la ejecucion del método Matriz_Adyacencia.\n",
    "        \n",
    "        La variable 'lista' será utilizada para obtener una lista de adyancia que representará un grafo que sera capturado con el método Lista_Adyacencia.\n",
    "    \n",
    "        La variable 'matriz' es un grafo de ejemplo definido como su matriz de adyacencia ya que es necesaria para el algoritmo de componentes conexas.\n",
    "        El metodo 'Grafo_Conexo' usa la variable 'matriz', la modifica para calcular la matriz de caminos e imprime las componentes conexas resultantes.\n",
    "    \"\"\"\n",
    "    def __init__(self, numNodos=1, vertices=[1]):\n",
    "        self.M_Adyacencia = np.zeros([numNodos, numNodos])\n",
    "        \n",
    "        self.lista = {v: [] for v in vertices}\n",
    "        \n",
    "        self.matriz = [[0, 0, 0, 1, 1, 0],\n",
    "                       [0, 0, 0, 0, 0, 0],\n",
    "                       [0, 0, 0, 0, 0, 1],\n",
    "                       [1, 1, 1, 0, 0, 0],\n",
    "                       [0, 1, 1, 0, 0, 1],\n",
    "                       [0, 0, 0, 0, 1, 0]]\n",
    "        \n",
    "        self.grafo = {\n",
    "                        0: {3: 1, 4: 1},\n",
    "                        1: {},\n",
    "                        2: {5: 1},\n",
    "                        3: {0: 1, 1: 1, 2: 1},\n",
    "                        4: {1: 1, 2: 1, 5: 1},\n",
    "                        5: {4: 1}}\n",
    "\n",
    "\n",
    "    def Matriz_Adyacencia(self, numAristas):\n",
    "        # Captura de los aristas del grafo no dirigido\n",
    "        for i in range(numAristas):\n",
    "            nodo1 = int(input(\"Ingresa el 1er vertice: \"))\n",
    "            nodo2 = int(input(\"ingresa el 2do vertice: \"))\n",
    "            self.M_Adyacencia[nodo1][nodo2] = 1\n",
    "            self.M_Adyacencia[nodo2][nodo1] = 1\n",
    "        \n",
    "        # Impresion de la matriz de adyacencia\n",
    "        print(self.M_Adyacencia)\n",
    "\n",
    "    def Lista_Adyacencia(self, numAristas):\n",
    "        # Captura de los aristas del grafo dirigido\n",
    "        for i in range(numAristas):\n",
    "            u = input(\"Ingrese el 1er vertice: \")\n",
    "            v = input(\"Ingrese el 2do vertice: \")\n",
    "            self.lista[u].append(v)\n",
    "        \n",
    "        # Impresion de la lista de adyacencia\n",
    "        for nodo, adyacentes in self.lista.items():\n",
    "            print(f'{nodo}: {adyacentes}')\n",
    "\n",
    "    def Recorrido_Anchura(self):\n",
    "        pass\n",
    "\n",
    "    def Recorrido_Profundidad(self):\n",
    "        pass\n",
    "\n",
    "    def Grafo_Conexo(self):\n",
    "        self.__tam_matriz = len(self.matriz) #Tamano de la matriz o numero de vertices.\n",
    "        self.__vertices = list(range(self.__tam_matriz)) #Vector auxiliar para saber el orden de los nodos una vez que se modifique la matriz.\n",
    "\n",
    "        # Ciclo para llenar la diagonal principal con unos.\n",
    "        for i in range(self.__tam_matriz):\n",
    "            self.matriz[i][i] = 1\n",
    "\n",
    "        # Ciclo para calcular la matriz de caminos.\n",
    "        for i in range(self.__tam_matriz):\n",
    "            j = 0\n",
    "            temp = [False for k in range(self.__tam_matriz)] #Vector temporal para saber los nodos 'visitados'.\n",
    "            temp[i] = True\n",
    "            while j < self.__tam_matriz:\n",
    "                if self.matriz[i][j] == 1 and not temp[j]:\n",
    "                    for k, n in enumerate(self.matriz[j]):\n",
    "                        self.matriz[i][k] = n if n == 1 else self.matriz[i][k]\n",
    "                    temp[j] = True\n",
    "                    j = 0\n",
    "                    continue\n",
    "                j += 1\n",
    "\n",
    "        # Metodo de la burbuja para ordenar las filas de la matriz.\n",
    "        for i in range(self.__tam_matriz - 1):\n",
    "            for j in range(i + 1, self.__tam_matriz):\n",
    "                if self.matriz[i].count(1) < self.matriz[j].count(1):\n",
    "                    self.matriz[j], self.matriz[i] = self.matriz[i], self.matriz[j]\n",
    "                    self.__vertices[j], self.__vertices[i] = self.__vertices[i], self.__vertices[j] #Cambio del orden de los nodos en el vector auxiliar.\n",
    "\n",
    "        # Metodo de la burbuja para ordenar las columnas de la matriz.\n",
    "        for i in range(self.__tam_matriz - 1):\n",
    "            coli = [self.matriz[k][i] for k in range(self.__tam_matriz)]\n",
    "            for j in range(i + 1, self.__tam_matriz):\n",
    "                colj = [self.matriz[k][j] for k in range(self.__tam_matriz)]\n",
    "                if coli.count(1) > colj.count(1):\n",
    "                    for k in range(self.__tam_matriz):\n",
    "                        self.matriz[k][i], self.matriz[k][j] = self.matriz[k][j], self.matriz[k][i]\n",
    "                    coli, colj = colj, coli\n",
    "\n",
    "        # Resultado\n",
    "        print('Componentes conexas:')\n",
    "        print('v1 = {', end = '')\n",
    "        contador = 1\n",
    "        for i in range(self.__tam_matriz - 1):\n",
    "            print(chr(self.__vertices[i] + 65), end = '')\n",
    "            if (self.matriz[i + 1][i] == 0):\n",
    "                print('}')\n",
    "                contador += 1\n",
    "                print(f'v{contador} = {{', end = '')\n",
    "                continue\n",
    "            print(', ', end = '')\n",
    "        print(f'{chr(self.__vertices[-1] + 65)}}}')\n",
    "\n",
    "##------------------------------------------- ALGORITMO DE DIJKSTRA ----------------------------------------------------------------\n",
    "    def Dijkstra(self, grafo, inicio):\n",
    "            #Inicializar las distancias y el conjunto de nodos visitados\n",
    "        distancias = {nodo: float('inf') for nodo in grafo}\n",
    "        distancias[inicio] = 0\n",
    "\n",
    "        #Usar una cola de prioridad para mantener los nodos no visitados\n",
    "        cola_prioridad = [(0, inicio)]\n",
    "\n",
    "        while cola_prioridad:\n",
    "            #Obtener el nodo con la distancia más corta\n",
    "            distancia_actual, nodo_actual = heapq.heappop(cola_prioridad)\n",
    "\n",
    "            #Si la distancia actual es mayor que la conocida, ignorar este nodo\n",
    "            if distancia_actual > distancias[nodo_actual]:\n",
    "                continue\n",
    "\n",
    "            #Explorar los nodos vecinos del nodo actual\n",
    "            for vecino, peso in grafo[nodo_actual].items():\n",
    "                distancia = distancia_actual + peso\n",
    "\n",
    "                #Si encontramos una distancia más corta, actualizar\n",
    "                if distancia < distancias[vecino]:\n",
    "                    distancias[vecino] = distancia\n",
    "                    #Agregar el vecino a la cola de prioridad\n",
    "                    heapq.heappush(cola_prioridad, (distancia, vecino))\n",
    "        return distancias"
   ]
  },
  {
   "cell_type": "code",
   "execution_count": 4,
   "id": "a045770b",
   "metadata": {},
   "outputs": [],
   "source": [
    "obj = Estructuras_Computacionales()"
   ]
  },
  {
   "cell_type": "code",
   "execution_count": 5,
   "id": "9cac14aa",
   "metadata": {},
   "outputs": [
    {
     "name": "stdout",
     "output_type": "stream",
     "text": [
      "Los vertices son: 0, 1, 2, 3, 4, \n"
     ]
    },
    {
     "ename": "IndexError",
     "evalue": "index 9 is out of bounds for axis 0 with size 5",
     "output_type": "error",
     "traceback": [
      "\u001b[1;31m---------------------------------------------------------------------------\u001b[0m",
      "\u001b[1;31mIndexError\u001b[0m                                Traceback (most recent call last)",
      "\u001b[1;32mc:\\Users\\abrah\\Downloads\\Estructuras_Computacionales_II\\Estructuras_Computacionales.ipynb Cell 7\u001b[0m line \u001b[0;36m1\n\u001b[0;32m      <a href='vscode-notebook-cell:/c%3A/Users/abrah/Downloads/Estructuras_Computacionales_II/Estructuras_Computacionales.ipynb#W4sZmlsZQ%3D%3D?line=6'>7</a>\u001b[0m \u001b[39mprint\u001b[39m()\n\u001b[0;32m      <a href='vscode-notebook-cell:/c%3A/Users/abrah/Downloads/Estructuras_Computacionales_II/Estructuras_Computacionales.ipynb#W4sZmlsZQ%3D%3D?line=8'>9</a>\u001b[0m matriz \u001b[39m=\u001b[39m Estructuras_Computacionales(numNodos)\n\u001b[1;32m---> <a href='vscode-notebook-cell:/c%3A/Users/abrah/Downloads/Estructuras_Computacionales_II/Estructuras_Computacionales.ipynb#W4sZmlsZQ%3D%3D?line=9'>10</a>\u001b[0m matriz\u001b[39m.\u001b[39;49mMatriz_Adyacencia(numAristas)\n",
      "\u001b[1;32mc:\\Users\\abrah\\Downloads\\Estructuras_Computacionales_II\\Estructuras_Computacionales.ipynb Cell 7\u001b[0m line \u001b[0;36m3\n\u001b[0;32m     <a href='vscode-notebook-cell:/c%3A/Users/abrah/Downloads/Estructuras_Computacionales_II/Estructuras_Computacionales.ipynb#W4sZmlsZQ%3D%3D?line=33'>34</a>\u001b[0m     nodo1 \u001b[39m=\u001b[39m \u001b[39mint\u001b[39m(\u001b[39minput\u001b[39m(\u001b[39m\"\u001b[39m\u001b[39mIngresa el 1er vertice: \u001b[39m\u001b[39m\"\u001b[39m))\n\u001b[0;32m     <a href='vscode-notebook-cell:/c%3A/Users/abrah/Downloads/Estructuras_Computacionales_II/Estructuras_Computacionales.ipynb#W4sZmlsZQ%3D%3D?line=34'>35</a>\u001b[0m     nodo2 \u001b[39m=\u001b[39m \u001b[39mint\u001b[39m(\u001b[39minput\u001b[39m(\u001b[39m\"\u001b[39m\u001b[39mingresa el 2do vertice: \u001b[39m\u001b[39m\"\u001b[39m))\n\u001b[1;32m---> <a href='vscode-notebook-cell:/c%3A/Users/abrah/Downloads/Estructuras_Computacionales_II/Estructuras_Computacionales.ipynb#W4sZmlsZQ%3D%3D?line=35'>36</a>\u001b[0m     \u001b[39mself\u001b[39;49m\u001b[39m.\u001b[39;49mM_Adyacencia[nodo1][nodo2] \u001b[39m=\u001b[39m \u001b[39m1\u001b[39m\n\u001b[0;32m     <a href='vscode-notebook-cell:/c%3A/Users/abrah/Downloads/Estructuras_Computacionales_II/Estructuras_Computacionales.ipynb#W4sZmlsZQ%3D%3D?line=36'>37</a>\u001b[0m     \u001b[39mself\u001b[39m\u001b[39m.\u001b[39mM_Adyacencia[nodo2][nodo1] \u001b[39m=\u001b[39m \u001b[39m1\u001b[39m\n\u001b[0;32m     <a href='vscode-notebook-cell:/c%3A/Users/abrah/Downloads/Estructuras_Computacionales_II/Estructuras_Computacionales.ipynb#W4sZmlsZQ%3D%3D?line=38'>39</a>\u001b[0m \u001b[39m# Impresion de la matriz de adyacencia\u001b[39;00m\n",
      "\u001b[1;31mIndexError\u001b[0m: index 9 is out of bounds for axis 0 with size 5"
     ]
    }
   ],
   "source": [
    "numNodos = int(input(\"Ingresa numero de nodos del grafo: \"))\n",
    "numAristas = int(input(\"Ingresa numero de aristas del grafo: \"))\n",
    "\n",
    "print(\"Los vertices son:\", end=\" \")\n",
    "for i in range(numNodos):\n",
    "    print(i, end=\", \")\n",
    "print()\n",
    "\n",
    "matriz = Estructuras_Computacionales(numNodos)\n",
    "matriz.Matriz_Adyacencia(numAristas)"
   ]
  },
  {
   "cell_type": "code",
   "execution_count": null,
   "metadata": {},
   "outputs": [
    {
     "name": "stdout",
     "output_type": "stream",
     "text": [
      "Los vertices son:  ['A', 'B', 'C', 'D', 'E']\n",
      "A: ['B', 'C']\n",
      "B: ['D', 'E']\n",
      "C: ['D']\n",
      "D: ['A']\n",
      "E: ['D', 'E']\n"
     ]
    }
   ],
   "source": [
    "numNodos = int(input(\"Ingrese el numero de vertices: \"))\n",
    "numAristas = int(input(\"Ingrese el numero de aristas: \"))\n",
    "\n",
    "vertices = []\n",
    "\n",
    "for i in range(numNodos):\n",
    "    vertices.append(chr(i+65))\n",
    "\n",
    "print(\"Los vertices son: \", vertices)\n",
    "    \n",
    "lista = Estructuras_Computacionales(numNodos, vertices)\n",
    "lista.Lista_Adyacencia(numAristas)"
   ]
  },
  {
   "cell_type": "code",
   "execution_count": 8,
   "id": "bb1bc326",
   "metadata": {},
   "outputs": [
    {
     "name": "stdout",
     "output_type": "stream",
     "text": [
      "Distancias más cortas desde el nodo 0: {0: 0, 1: 2, 2: 2, 3: 1, 4: 1, 5: 2}\n"
     ]
    }
   ],
   "source": [
    "obj = Estructuras_Computacionales()\n",
    "nodo_inicio = 0\n",
    "resultado = obj.Dijkstra(obj.grafo, nodo_inicio)\n",
    "print(f\"Distancias más cortas desde el nodo {nodo_inicio}: {resultado}\")"
   ]
  },
  {
   "cell_type": "code",
   "execution_count": null,
   "id": "fbe2a284",
   "metadata": {},
   "outputs": [
    {
     "name": "stdout",
     "output_type": "stream",
     "text": [
      "Componentes conexas:\n",
      "v1 = {A, D}\n",
      "v2 = {C, E, F}\n",
      "v3 = {B}\n"
     ]
    }
   ],
   "source": [
    "obj.Grafo_Conexo()"
   ]
  }
 ],
 "metadata": {
  "kernelspec": {
   "display_name": "Python 3 (ipykernel)",
   "language": "python",
   "name": "python3"
  },
  "language_info": {
   "codemirror_mode": {
    "name": "ipython",
    "version": 3
   },
   "file_extension": ".py",
   "mimetype": "text/x-python",
   "name": "python",
   "nbconvert_exporter": "python",
   "pygments_lexer": "ipython3",
   "version": "3.11.5"
  }
 },
 "nbformat": 4,
 "nbformat_minor": 5
}
