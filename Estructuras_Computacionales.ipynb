{
 "cells": [
  {
   "cell_type": "markdown",
   "id": "c8fde11d",
   "metadata": {},
   "source": [
    "# Proyecto Final Parcial 2!!\n",
    "### Estructuras Computacionales\n",
    "\n",
    "En este jupyter notebook se muestran los __algoritmos__ realizados durante el curso de __Estructuras Computacionales II__, los cuales son listados a continuacion.\n",
    "\n",
    "* Matriz de Adyacencia.\n",
    "* Lista de Adyacencia.\n",
    "* Recorrido de anchura.\n",
    "* Recorrido en profundidad.\n",
    "* Grafo conexo.\n",
    "* Algoritmo de dijkstra.\n",
    "\n",
    "Nota. Todos estos algoritmos estaran compuestos de en un solo archivo .py, para mantener el codigo correctamente organizado haremos uso de la POO."
   ]
  },
  {
   "cell_type": "markdown",
   "id": "bedc5564",
   "metadata": {},
   "source": [
    "#### Main Class\n",
    "Clase principal que contendra todos los __algoritmos__.\n",
    "\n",
    "Hagan sus programas en el metodo que le corresponde, si quieren definir variables que se inicializen \n",
    "al instanciar la clase de **Estructuras_Computacionales** ponganlas en el metodo **init** y comenten arriba del metodo colocando el algoritmo que estan desarrollando y para que es la variable que estan definiendo. Si quieren pueden utilizar variables de otros.\n",
    "\n",
    "Para definir las variables deben usar '**self.variable = valor**' si quieren que el metodo sea privado usen\n",
    "'**self.\\__variable = valor**', y ya."
   ]
  },
  {
   "cell_type": "markdown",
   "id": "f48fda24",
   "metadata": {},
   "source": [
    "Cuando esten en github hagan un **fork** del repositorio del codigo para que lo copien, despues creen una rama que tenga el nombre del algoritmo que estan haciendo para que empiezen a hacer su parte."
   ]
  },
  {
   "cell_type": "code",
   "execution_count": 30,
   "id": "663b51f3",
   "metadata": {},
   "outputs": [],
   "source": [
    "import heapq\n",
    "import numpy as np"
   ]
  },
  {
   "cell_type": "code",
   "execution_count": 31,
   "id": "c31d63ce",
   "metadata": {},
   "outputs": [],
   "source": [
    "\n",
    "class Unidad2:\n",
    "    \"\"\"\n",
    "        La variable 'M_Adyacencia' es la matriz de adyacencia que se capturara en durante la ejecucion del método Matriz_Adyacencia.\n",
    "        \n",
    "        La variable 'lista' será utilizada para obtener una lista de adyancia que representará un grafo que sera capturado con el método Lista_Adyacencia.\n",
    "    \n",
    "        La variable 'matriz' es un grafo de ejemplo definido como su matriz de adyacencia ya que es necesaria para el algoritmo de componentes conexas.\n",
    "        El metodo 'Grafo_Conexo' usa la variable 'matriz', la modifica para calcular la matriz de caminos e imprime las componentes conexas resultantes.\n",
    "    \"\"\"\n",
    "    def __init__(self, numNodos=1, vertices=[1]):\n",
    "        self.M_Adyacencia = np.zeros([numNodos, numNodos])\n",
    "        \n",
    "        self.lista = {v: [] for v in vertices}\n",
    "        \n",
    "        self.matriz = [[0, 0, 0, 1, 1, 0],\n",
    "                       [0, 0, 0, 0, 0, 0],\n",
    "                       [0, 0, 0, 0, 0, 1],\n",
    "                       [1, 1, 1, 0, 0, 0],\n",
    "                       [0, 1, 1, 0, 0, 1],\n",
    "                       [0, 0, 0, 0, 1, 0]]\n",
    "        \n",
    "        self.grafo = {\n",
    "                        0: {3: 1, 4: 1},\n",
    "                        1: {},\n",
    "                        2: {5: 1},\n",
    "                        3: {0: 1, 1: 1, 2: 1},\n",
    "                        4: {1: 1, 2: 1, 5: 1},\n",
    "                        5: {4: 1}}\n",
    "\n",
    "\n",
    "    def Matriz_Adyacencia(self, numAristas):\n",
    "        # Captura de los aristas del grafo no dirigido\n",
    "        for i in range(numAristas):\n",
    "            nodo1 = int(input(\"Ingresa el 1er vertice: \"))\n",
    "            nodo2 = int(input(\"ingresa el 2do vertice: \"))\n",
    "            self.M_Adyacencia[nodo1][nodo2] = 1\n",
    "            self.M_Adyacencia[nodo2][nodo1] = 1\n",
    "        \n",
    "        # Impresion de la matriz de adyacencia\n",
    "        print(self.M_Adyacencia)\n",
    "\n",
    "    def Lista_Adyacencia(self, numAristas):\n",
    "        # Captura de los aristas del grafo dirigido\n",
    "        for i in range(numAristas):\n",
    "            u = input(\"Ingrese el 1er vertice: \")\n",
    "            v = input(\"Ingrese el 2do vertice: \")\n",
    "            self.lista[u].append(v)\n",
    "        \n",
    "        # Impresion de la lista de adyacencia\n",
    "        for nodo, adyacentes in self.lista.items():\n",
    "            print(f'{nodo}: {adyacentes}')\n",
    "\n",
    "    def Recorrido_Anchura(self):\n",
    "        self.__cola = []    # Lista para representar la cola\n",
    "        self.__cola.append(0)   # Metemos a la cola el 0 para representar el vertice A\n",
    "        self.__visitados = [True, False, False, False, False, False]\n",
    "        \n",
    "        print(\"El recorrido por anchura es: \")\n",
    "        while(len(self.__cola) != 0):   # Mientras la cola no este vacia\n",
    "            element = self.__cola.pop(0)    # Sacamos el primer elemento de la cola\n",
    "            print(chr(element + 65))\n",
    "            \n",
    "            for i, relacion in enumerate(self.matriz[element]):    # Checamos las relaciones del nodo actual con todos los demas nodos\n",
    "                if relacion == 1 and self.__visitados[i] == False: # Si aun no se visita el nodo y se tiene relacion (1) con otro nodo, este se mete a la cola y se marca como visitado\n",
    "                        self.__visitados[i] = True\n",
    "                        self.__cola.append(i)\n",
    "\n",
    "    def Recorrido_Profundidad(self):\n",
    "        self.__pila = []    # Lista para representar la pila\n",
    "        self.__pila.append(0)   # Metemos a la pila el 0 para representar el vertice A\n",
    "        self.__visitados = [True, False, False, False, False, False]\n",
    "        \n",
    "        print(\"El recorrido por profundidad es: \")\n",
    "        while(len(self.__pila) != 0):   # Mientras la cola no este vacia\n",
    "            element = self.__pila.pop()  # Sacamos el ultimo elemento de la pila\n",
    "            print(chr(element + 65))\n",
    "            \n",
    "            for i, relacion in enumerate(self.matriz[element]):    # Checamos las relaciones del nodo actual con todos los demas nodos\n",
    "                if relacion == 1 and self.__visitados[i] == False:  # Si aun no se visita el nodo y si hay relacion (1) con otro nodo, este se mete a la pila y se marca como visitado\n",
    "                        self.__visitados[i] = True\n",
    "                        self.__pila.append(i)\n",
    "\n",
    "    def Grafo_Conexo(self):\n",
    "        self.__tam_matriz = len(self.matriz) #Tamano de la matriz o numero de vertices.\n",
    "        self.__vertices = list(range(self.__tam_matriz)) #Vector auxiliar para saber el orden de los nodos una vez que se modifique la matriz.\n",
    "\n",
    "        # Ciclo para llenar la diagonal principal con unos.\n",
    "        for i in range(self.__tam_matriz):\n",
    "            self.matriz[i][i] = 1\n",
    "\n",
    "        # Ciclo para calcular la matriz de caminos.\n",
    "        for i in range(self.__tam_matriz):\n",
    "            j = 0\n",
    "            temp = [False for k in range(self.__tam_matriz)] #Vector temporal para saber los nodos 'visitados'.\n",
    "            temp[i] = True\n",
    "            while j < self.__tam_matriz:\n",
    "                if self.matriz[i][j] == 1 and not temp[j]:\n",
    "                    for k, n in enumerate(self.matriz[j]):\n",
    "                        self.matriz[i][k] = n if n == 1 else self.matriz[i][k]\n",
    "                    temp[j] = True\n",
    "                    j = 0\n",
    "                    continue\n",
    "                j += 1\n",
    "\n",
    "        # Metodo de la burbuja para ordenar las filas de la matriz.\n",
    "        for i in range(self.__tam_matriz - 1):\n",
    "            for j in range(i + 1, self.__tam_matriz):\n",
    "                if self.matriz[i].count(1) < self.matriz[j].count(1):\n",
    "                    self.matriz[j], self.matriz[i] = self.matriz[i], self.matriz[j]\n",
    "                    self.__vertices[j], self.__vertices[i] = self.__vertices[i], self.__vertices[j] #Cambio del orden de los nodos en el vector auxiliar.\n",
    "\n",
    "        # Metodo de la burbuja para ordenar las columnas de la matriz.\n",
    "        for i in range(self.__tam_matriz - 1):\n",
    "            coli = [self.matriz[k][i] for k in range(self.__tam_matriz)]\n",
    "            for j in range(i + 1, self.__tam_matriz):\n",
    "                colj = [self.matriz[k][j] for k in range(self.__tam_matriz)]\n",
    "                if coli.count(1) > colj.count(1):\n",
    "                    for k in range(self.__tam_matriz):\n",
    "                        self.matriz[k][i], self.matriz[k][j] = self.matriz[k][j], self.matriz[k][i]\n",
    "                    coli, colj = colj, coli\n",
    "\n",
    "        # Resultado\n",
    "        print('Componentes conexas:')\n",
    "        print('v1 = {', end = '')\n",
    "        contador = 1\n",
    "        for i in range(self.__tam_matriz - 1):\n",
    "            print(chr(self.__vertices[i] + 65), end = '')\n",
    "            if (self.matriz[i + 1][i] == 0):\n",
    "                print('}')\n",
    "                contador += 1\n",
    "                print(f'v{contador} = {{', end = '')\n",
    "                continue\n",
    "            print(', ', end = '')\n",
    "        print(f'{chr(self.__vertices[-1] + 65)}}}')\n",
    "\n",
    "##------------------------------------------- ALGORITMO DE DIJKSTRA ----------------------------------------------------------------\n",
    "    def Dijkstra(self, grafo, inicio):\n",
    "        #Inicializar las distancias y el conjunto de nodos visitados\n",
    "        distancias = {nodo: float('inf') for nodo in grafo}\n",
    "        distancias[inicio] = 0\n",
    "\n",
    "        #Usar una cola de prioridad para mantener los nodos no visitados\n",
    "        cola_prioridad = [(0, inicio)]\n",
    "\n",
    "        while cola_prioridad:\n",
    "            #Obtener el nodo con la distancia más corta\n",
    "            distancia_actual, nodo_actual = heapq.heappop(cola_prioridad)\n",
    "\n",
    "            #Si la distancia actual es mayor que la conocida, ignorar este nodo\n",
    "            if distancia_actual > distancias[nodo_actual]:\n",
    "                continue\n",
    "\n",
    "            #Explorar los nodos vecinos del nodo actual\n",
    "            for vecino, peso in grafo[nodo_actual].items():\n",
    "                distancia = distancia_actual + peso\n",
    "\n",
    "                #Si encontramos una distancia más corta, actualizar\n",
    "                if distancia < distancias[vecino]:\n",
    "                    distancias[vecino] = distancia\n",
    "                    #Agregar el vecino a la cola de prioridad\n",
    "                    heapq.heappush(cola_prioridad, (distancia, vecino))\n",
    "        return distancias"
   ]
  },
  {
   "cell_type": "code",
   "execution_count": 32,
   "id": "a045770b",
   "metadata": {},
   "outputs": [],
   "source": [
    "obj = Unidad2()"
   ]
  },
  {
   "cell_type": "markdown",
   "id": "f303c60f",
   "metadata": {},
   "source": [
    "Matriz de Adyacencia"
   ]
  },
  {
   "cell_type": "code",
   "execution_count": 10,
   "id": "9cac14aa",
   "metadata": {},
   "outputs": [
    {
     "name": "stdout",
     "output_type": "stream",
     "text": [
      "Los vertices son: 0, 1, 2, 3, 4, \n",
      "[[0. 1. 0. 1. 0.]\n",
      " [1. 0. 0. 1. 0.]\n",
      " [0. 0. 0. 1. 0.]\n",
      " [1. 1. 1. 0. 1.]\n",
      " [0. 0. 0. 1. 0.]]\n"
     ]
    }
   ],
   "source": [
    "numNodos = int(input(\"Ingresa numero de nodos del grafo: \"))\n",
    "numAristas = int(input(\"Ingresa numero de aristas del grafo: \"))\n",
    "\n",
    "print(\"Los vertices son:\", end=\" \")\n",
    "for i in range(numNodos):\n",
    "    print(i, end=\", \")\n",
    "print()\n",
    "\n",
    "matriz = Unidad2(numNodos)\n",
    "matriz.Matriz_Adyacencia(numAristas)"
   ]
  },
  {
   "cell_type": "markdown",
   "id": "f602a200",
   "metadata": {},
   "source": [
    "Lista de Adyacencia"
   ]
  },
  {
   "cell_type": "code",
   "execution_count": null,
   "id": "4fb2fb85",
   "metadata": {},
   "outputs": [
    {
     "name": "stdout",
     "output_type": "stream",
     "text": [
      "Los vertices son:  ['A', 'B', 'C', 'D', 'E']\n",
      "A: ['B', 'C']\n",
      "B: ['D', 'E']\n",
      "C: ['D']\n",
      "D: ['A']\n",
      "E: ['D', 'E']\n"
     ]
    }
   ],
   "source": [
    "numNodos = int(input(\"Ingrese el numero de vertices: \"))\n",
    "numAristas = int(input(\"Ingrese el numero de aristas: \"))\n",
    "\n",
    "vertices = []\n",
    "\n",
    "for i in range(numNodos):\n",
    "    vertices.append(chr(i + 65))\n",
    "\n",
    "print(\"Los vertices son: \", vertices)\n",
    "\n",
    "lista = Unidad2(numNodos, vertices)\n",
    "lista.Lista_Adyacencia(numAristas)"
   ]
  },
  {
   "cell_type": "markdown",
   "id": "d44d3768",
   "metadata": {},
   "source": [
    "Recorrido en Anchura"
   ]
  },
  {
   "cell_type": "code",
   "execution_count": 14,
   "id": "fbba7801",
   "metadata": {},
   "outputs": [
    {
     "name": "stdout",
     "output_type": "stream",
     "text": [
      "El recorrido por anchura es: \n",
      "A\n",
      "D\n",
      "E\n",
      "B\n",
      "C\n",
      "F\n"
     ]
    }
   ],
   "source": [
    "obj.Recorrido_Anchura()"
   ]
  },
  {
   "cell_type": "markdown",
   "id": "dddc74c0",
   "metadata": {},
   "source": [
    "Recorrido en Profundidad"
   ]
  },
  {
   "cell_type": "code",
   "execution_count": 15,
   "id": "63abc937",
   "metadata": {},
   "outputs": [
    {
     "name": "stdout",
     "output_type": "stream",
     "text": [
      "El recorrido por profundidad es: \n",
      "A\n",
      "E\n",
      "F\n",
      "C\n",
      "B\n",
      "D\n"
     ]
    }
   ],
   "source": [
    "obj.Recorrido_Profundidad()"
   ]
  },
  {
   "cell_type": "markdown",
   "id": "9dc9c98f",
   "metadata": {},
   "source": [
    "Algoritmo de Dijkstra"
   ]
  },
  {
   "cell_type": "code",
   "execution_count": 6,
   "id": "bb1bc326",
   "metadata": {},
   "outputs": [
    {
     "name": "stdout",
     "output_type": "stream",
     "text": [
      "Distancias más cortas desde el nodo 0: {0: 0, 1: 2, 2: 2, 3: 1, 4: 1, 5: 2}\n"
     ]
    }
   ],
   "source": [
    "nodo_inicio = 0\n",
    "resultado = obj.Dijkstra(obj.grafo, nodo_inicio)\n",
    "print(f\"Distancias más cortas desde el nodo {nodo_inicio}: {resultado}\")"
   ]
  },
  {
   "cell_type": "markdown",
   "id": "b6d858aa",
   "metadata": {},
   "source": [
    "Grafo Conexo"
   ]
  },
  {
   "cell_type": "code",
   "execution_count": 7,
   "id": "fbe2a284",
   "metadata": {},
   "outputs": [
    {
     "name": "stdout",
     "output_type": "stream",
     "text": [
      "Componentes conexas:\n",
      "v1 = {A, D}\n",
      "v2 = {C, E, F}\n",
      "v3 = {B}\n"
     ]
    }
   ],
   "source": [
    "obj.Grafo_Conexo()"
   ]
  },
  {
   "cell_type": "markdown",
   "id": "31abb838",
   "metadata": {},
   "source": [
    "# Proyecto Final Parcial 3!\n",
    "\n",
    "***Algoritmos de Proyecto Final:***\n",
    "\n",
    "- Unidad 3 \n",
    "\n",
    "  * Programas para hacer el pareo de un grafo normal.\n",
    "  * Programas para hacer el pareo de un grafo bipartido.\n",
    "  * N problemas y modelado correspondiente de Pareo en grafos. N = cantidad de integrantes / 2. Tratar en los N problemas exista al menos uno de cada tipo: pareos perfectos, pareos maximales mínimos y pareos maximales       máximos. \n",
    "  * Investigar el concepto de pareos maximales mínimos.\n",
    " \n",
    " - Unidad 4\n",
    "\n",
    "    * Programas Primero en Anchura y Primero en Profundidad para grafos dirigidos.\n",
    "    * Comparación DFS y BFS con los algoritmos de grafos dirigidos y grafos no dirigidos.\n",
    "    * N problemas y modelado correspondiente de grafos dirigidos ponderado o no. N = cantidad de integrantes / 2.\n",
    "\n",
    "**Realizar la fotografía de equipo: Indicar en una tabla de cada integrante el entendimiento de cada programa realizado.**\n",
    "\n",
    "![Python](https://th.bing.com/th/id/R.943803c137dc211e2279dbe80a17c401?rik=bS3wZ6WGrxGwtg&pid=ImgRaw&r=0)"
   ]
  },
  {
   "cell_type": "markdown",
   "id": "a6e08bab",
   "metadata": {},
   "source": [
    "## **Algoritmos y Problemas de Unidad III**"
   ]
  },
  {
   "cell_type": "code",
   "execution_count": 9,
   "id": "554ab28d",
   "metadata": {},
   "outputs": [],
   "source": [
    "import matplotlib.pyplot as plt\n",
    "import networkx as nx\n",
    "import numpy as np\n",
    "from multiprocessing import Queue\n",
    "\n",
    "class Unidad3:\n",
    "    def __init__(self):\n",
    "        self.bipartite_graph = [\n",
    "            [0,1,0,1,1,0,0,0],\n",
    "            [1,0,1,0,0,1,0,0],\n",
    "            [0,1,0,1,0,0,1,0],\n",
    "            [1,0,1,0,0,0,0,1],\n",
    "            [1,0,0,0,0,1,0,1],\n",
    "            [0,1,0,0,1,0,1,0],\n",
    "            [0,0,1,0,0,1,0,1],\n",
    "            [0,0,0,1,1,0,1,0],\n",
    "        ]\n",
    "\n",
    "        \n",
    "    def pareo_grafo(self):\n",
    "        pass\n",
    "    \n",
    "    \n",
    "    \"\"\"\n",
    "        El siguiente Metodo nos ayuda en el Pareo de un Grafo Bipartito, primeramente\n",
    "        con ayuda de unas funciones comprobamos que en efecto el grafo ingresado es Bipartito,\n",
    "        para asi continuar con el pareo del Grafo.\n",
    "    \"\"\"\n",
    "    def pareo_grafo_bipartido(self):\n",
    "        NIL = 0\n",
    "        INF = 2147483647\n",
    "        # ------------------------------------------------------------------------\n",
    "        # Funcion para graficar el Grafo Bipartito, diferenciando los nodos\n",
    "        # que pertenecen al grupo u y v, ademas de agregar el emparejamiento\n",
    "        # realizado.\n",
    "        def plot_network(emp):\n",
    "            # Crear el Grafo\n",
    "            G = nx.Graph()\n",
    "            # Agregar Nodos\n",
    "            nodes = [i for i in range(1, len(self.bipartite_graph)+1)]\n",
    "            G.add_nodes_from(nodes)\n",
    "            # Agregar Bordes\n",
    "            edges = []\n",
    "            for i, row in enumerate(graph):\n",
    "                for j, n in enumerate(row):\n",
    "                    if n == 1:\n",
    "                        edges.append( (i+1, j+1) )\n",
    "            G.add_edges_from(edges)\n",
    "\n",
    "            # Definir un color para cada grupo\n",
    "            nodes_color = [\"black\" if g else \"red\" for g in self.groups]\n",
    "            # Definir un color para cada emparejamiento\n",
    "            edges_color = [\"purple\" if set(edg) in self.pairs else \"gray\" for edg in G.edges]\n",
    "            \n",
    "            # Graficar grafo.\n",
    "            pos = nx.spring_layout(G)\n",
    "            nx.draw(G, pos, with_labels= True, node_size= 700, \n",
    "                    node_color= nodes_color, font_size= 10, font_color= 'white', edge_color= edges_color,\n",
    "                   linewidths= 1, alpha= 0.9, width = 5)\n",
    "\n",
    "            # Mostrar el Grafo\n",
    "            plt.text(x=-1.2, y=-1.2, s= f\"Emparejamientos Maximos: {emp}\", size= 12)\n",
    "            plt.title('Emparejamiento de Grafo Bipartito')\n",
    "            plt.show()\n",
    "        \n",
    "        # ------------------------------------------------------------------------\n",
    "        # Las siguiente funciones comprueban si el Grafo es Bipartito y se obtienen\n",
    "        # los vertices pertenecientes a cada grupo.\n",
    "        def find_match(node, color, colors, graph):\n",
    "            colors[node] = color\n",
    "            for i, adj in enumerate(graph[node]):\n",
    "                if adj:\n",
    "                    if colors[i] == color:# Search for adjacent Nodes with the same color.\n",
    "                        return False  \n",
    "                    elif colors[i] == -1:\n",
    "                        find_match(i, 0 if color else 1, colors, graph) # Assing a color for the node i.\n",
    "            return True\n",
    "\n",
    "        def is_bipartite(graph, colors):\n",
    "            color = 0\n",
    "            isin = False\n",
    "            for node in range(len(graph)):\n",
    "                if colors[node] == -1:\n",
    "                    if isin:\n",
    "                        return False # The graph is not connected.\n",
    "                    isin = True\n",
    "\n",
    "                    if not find_match(node, color, colors, graph):\n",
    "                        return False # An adjacent node with same color was found.\n",
    "            return True\n",
    "        \n",
    "        # ------------------------------------------------------------------------\n",
    "        # Estas funciones realizan el pareo del Grafo bipartito una vez que se comprobo\n",
    "        # que en efecto el grafo ingresado es bipartito.\n",
    "        \n",
    "        # Retorna un Booleano si aun existen rutas aumentadas.\n",
    "        def bfs():\n",
    "            Q = Queue()\n",
    "            for u in range(1, self.__m+1):\n",
    "                if self.pairU[u] == NIL:\n",
    "                    self.dist[u] = 0\n",
    "                    Q.put(u)\n",
    "                else:\n",
    "                    self.dist[u] = INF\n",
    "            self.dist[NIL] = INF\n",
    "            while not Q.empty():\n",
    "                u = Q.get()\n",
    "                if self.dist[u] < self.dist[NIL]:\n",
    "                    for v in self.__adj[u]:\n",
    "                        if self.dist[self.pairV[v]] == INF:\n",
    "                            self.dist[self.pairV[v]] = self.dist[u] + 1\n",
    "                            Q.put(self.pairV[v])\n",
    "            return self.dist[NIL] != INF\n",
    "\n",
    "        # Retorna True si se encontro una rutas aumentadas iniciando desde un vertice libre y\n",
    "        # terminando en otro y asigna las parejas.\n",
    "        def dfs(u):\n",
    "            if u != NIL:\n",
    "                for v in self.__adj[u]:\n",
    "                    if self.dist[self.pairV[v]] == self.dist[u] + 1:\n",
    "\n",
    "                        if dfs(self.pairV[v]):\n",
    "                            self.pairV[v] = u\n",
    "                            self.pairU[u] = v\n",
    "                            return True\n",
    "\n",
    "                self.dist[u] = INF\n",
    "                return False\n",
    "            return True\n",
    "        \n",
    "        def hopcroftKarp():\n",
    "            self.pairU = [0 for _ in range(self.__m+1)]\n",
    "            self.pairV = [0 for _ in range(self.__n+1)]\n",
    "            self.dist = [0 for _ in range(self.__m+1)]\n",
    "            result = 0\n",
    "            while bfs():\n",
    "                for u in range(1, self.__m+1):\n",
    "                    if self.pairU[u] == NIL and dfs(u):\n",
    "                        result += 1\n",
    "            return result\n",
    "        \n",
    "        # ------------------------------------------------------------------------\n",
    "        # En esta seccion se hace uso de las anteriores funciones para obtener el \n",
    "        # emparejamiento del grafo bipartito.\n",
    "        \n",
    "        graph = self.bipartite_graph     # Variable de la Clase.\n",
    "        colors = [-1] * len(self.bipartite_graph)\n",
    "        \n",
    "        if is_bipartite(graph, colors):\n",
    "            u = []\n",
    "            v = []\n",
    "            for i in range(len(graph)):\n",
    "                if colors[i]: \n",
    "                    v.append(i)\n",
    "                else: \n",
    "                    u.append(i)\n",
    "            self.__m = len(u)\n",
    "            self.__n = len(v)\n",
    "            self.__adj =[[] for _ in range(self.__m+1)]\n",
    "\n",
    "            for i, n in enumerate(u):\n",
    "                for j, node  in enumerate(np.array(graph[n])[v]):\n",
    "                    if node == 1:\n",
    "                        self.__adj[i+1].append(j+1)\n",
    "            \n",
    "            result = hopcroftKarp()\n",
    "            self.pairs = [set((u[n1-1]+1,v[n2-1]+1))  for n1,n2 in zip(self.pairU[1:],self.pairV[1:])]\n",
    "            self.groups = colors\n",
    "            \n",
    "            # Graficar el Grafo con el Respectivo Emparejamiento y Division Bipartita.\n",
    "            plot_network(result)\n",
    "            \n",
    "        else:\n",
    "            print(\"* El Grafo No es Bipartito.\")"
   ]
  },
  {
   "cell_type": "code",
   "execution_count": 10,
   "id": "4522950a",
   "metadata": {},
   "outputs": [
    {
     "data": {
      "image/png": "[encoded data removed]",
      "text/plain": [
       "<Figure size 640x480 with 1 Axes>"
      ]
     },
     "metadata": {},
     "output_type": "display_data"
    }
   ],
   "source": [
    "# Ejecucion del Emparejamiento del Grafo Bipartito\n",
    "obj = Unidad3()\n",
    "obj.pareo_grafo_bipartido()"
   ]
  },
  {
   "cell_type": "markdown",
   "id": "e5076f82",
   "metadata": {},
   "source": [
    "### A continuacion se redactan los N *problemas* de ***Pareo de Grafos***.\n",
    "\n",
    "* **Problema 1:** Encuentre la determinante de la siguiente matriz.\n",
    "\n",
    "$ M = \\begin {pmatrix}\n",
    "    1 & 2 & 3\\\\\n",
    "    4 & 5 & 6\n",
    "    \\end {pmatrix} \\in \\mathbb R_{2\\times3}\n",
    "$\n",
    "\n",
    "\n",
    "* **Problema 2:** Encuentre una base para el siguiente vector.\n",
    "\n",
    "$\\vec{v} = (v_1, v_2, v_3, \\cdots, v_n) \\in \\mathbb R^n$\n",
    "\n",
    "\n",
    "* **Problema 3:** Calcule el siguiente determinante mediant cofactores.\n",
    "\n",
    "$\\det A =  \\begin {vmatrix}\n",
    "    8 & 4 & 1 & 4\\\\\n",
    "    9 & 1 & 3 & 1\\\\\n",
    "    1 & 2 & 5 & 43\\\\\n",
    "    \\end {vmatrix}$\n",
    "\n",
    "* **Problema 4:** Encuentre una base para el siguiente vector.\n",
    "\n",
    "$\\vec{v} = (v_1, v_2, v_3, \\cdots, v_n) \\in \\mathbb R^n$\n",
    "\n",
    "\n",
    "* **Problema 5:** Calcule el siguiente determinante mediant cofactores.\n",
    "\n",
    "$\\det A =  \\begin {vmatrix}\n",
    "    8 & 4 & 1 & 4\\\\\n",
    "    9 & 1 & 3 & 1\\\\\n",
    "    1 & 2 & 5 & 43\\\\\n",
    "    \\end {vmatrix}$"
   ]
  },
  {
   "cell_type": "markdown",
   "id": "6b6bc421",
   "metadata": {},
   "source": [
    "### Concepto de  **Pareos Maximales Mínimos**\n",
    "\n",
    "Se refiere a la identificación de una asignación óptima entre dos conjuntos, maximizando la cantidad de elementos emparejados (maximal) y minimizando la cantidad de emparejamientos incomparables (mínimos).\n",
    "\n",
    "En la teoría de grafos y la teoría de juegos, los pareos maximales mínimos se aplican a problemas de emparejamiento donde se busca emparejar elementos de un conjunto con elementos correspondientes en otro conjunto, generalmente con restricciones específicas. Por ejemplo, en el problema de asignación de tareas, se puede buscar el emparejamiento de trabajadores con tareas de manera que se maximice la productividad total mientras se minimiza la cantidad de trabajadores o tareas que no tienen correspondencia.\n",
    "\n",
    "En resumen, los pareos maximales mínimos implican encontrar una asignación óptima entre dos conjuntos, maximizando la cantidad de elementos emparejados y minimizando la cantidad de elementos sin pareja, según los criterios específicos del problema en cuestión"
   ]
  },
  {
   "cell_type": "markdown",
   "id": "1384737b",
   "metadata": {},
   "source": [
    "## **Algoritmos y Problemas de Unidad IV**\n",
    "\n",
    "Realizar una comparacion en los algoritmos de **Anchura y Profundidad** para grafos **dirigidos y no dirigidos**, se puede medir el tiempo de ejecucion de un algoritmo usando **%%timeit**  al inicio de la celda."
   ]
  },
  {
   "cell_type": "code",
   "execution_count": 78,
   "id": "239e7962",
   "metadata": {},
   "outputs": [],
   "source": [
    "class Unidad4:\n",
    "    def __init__(self):\n",
    "        self.grafo_ND = [\n",
    "            [0, 1, 1, 0, 1, 0],\n",
    "            [1, 0, 0, 1, 0, 0],\n",
    "            [1, 0, 0, 1, 1, 0],\n",
    "            [0, 1, 1, 0, 0, 1],\n",
    "            [1, 0, 1, 0, 0, 1],\n",
    "            [0, 0, 0, 1, 1, 0],\n",
    "        ]\n",
    "\n",
    "        self.grafo_D = [\n",
    "            [0, 1, 0, 0, 1, 0],\n",
    "            [0, 0, 0, 1, 0, 0],\n",
    "            [1, 0, 0, 0, 0, 0],\n",
    "            [0, 0, 1, 0, 0, 1],\n",
    "            [0, 0, 1, 0, 0, 0],\n",
    "            [0, 0, 0, 0, 1, 0],\n",
    "        ]\n",
    "\n",
    "    def anchura_grafo_dirigido(self):\n",
    "        self.__cola = []  # Lista para representar la cola\n",
    "        self.__cola.append(0)  # Metemos a la cola el 0 para representar el vertice A\n",
    "        self.__visitados = [True, False, False, False, False, False]\n",
    "\n",
    "        print(\"El recorrido por anchura es: \")\n",
    "        while len(self.__cola) != 0:  # Mientras la cola no este vacia\n",
    "            element = self.__cola.pop(0)  # Sacamos el primer elemento de la cola\n",
    "            print(chr(element + 65))\n",
    "\n",
    "            for i, relacion in enumerate(\n",
    "                self.grafo_D[element]\n",
    "            ):  # Checamos las relaciones del nodo actual con todos los demas nodos\n",
    "                if (\n",
    "                    relacion and self.__visitados[i] == False\n",
    "                ):  # Si aun no se visita el nodo y se tiene relacion (1) con otro nodo, este se mete a la cola y se marca como visitado\n",
    "                    self.__visitados[i] = True\n",
    "                    self.__cola.append(i)\n",
    "\n",
    "    def profundidad_grafo_dirigido(self):\n",
    "        self.__pila = []  # Lista para representar la pila\n",
    "        self.__pila.append(0)  # Metemos a la pila el 0 para representar el vertice A\n",
    "        self.__visitados = [True, False, False, False, False, False]\n",
    "\n",
    "        print(\"El recorrido por profundidad es: \")\n",
    "        while len(self.__pila) != 0:  # Mientras la cola no este vacia\n",
    "            element = self.__pila.pop()  # Sacamos el ultimo elemento de la pila\n",
    "            print(chr(element + 65))\n",
    "\n",
    "            for i, relacion in enumerate(self.grafo_D[element]):  # Checamos las relaciones del nodo actual con todos los demas nodos\n",
    "                if (\n",
    "                    relacion and self.__visitados[i] == False\n",
    "                ):  # Si aun no se visita el nodo y se tiene relacion (1) con otro nodo, este se mete a la cola y se marca como visitado\n",
    "                    self.__visitados[i] = True\n",
    "                    self.__pila.append(i)\n",
    "\n",
    "    def anchura_grafo_no_dirigido(self):\n",
    "        self.__cola = []  # Lista para representar la cola\n",
    "        self.__cola.append(0)  # Metemos a la cola el 0 para representar el vertice A\n",
    "        self.__visitados = [True, False, False, False, False, False]\n",
    "\n",
    "        print(\"El recorrido por anchura es: \")\n",
    "        while len(self.__cola) != 0:  # Mientras la cola no este vacia\n",
    "            element = self.__cola.pop(0)  # Sacamos el primer elemento de la cola\n",
    "            print(chr(element + 65))\n",
    "\n",
    "            for i, relacion in enumerate(\n",
    "                self.grafo_ND[element]\n",
    "            ):  # Checamos las relaciones del nodo actual con todos los demas nodos\n",
    "                if (\n",
    "                    relacion and self.__visitados[i] == False\n",
    "                ):  # Si aun no se visita el nodo y se tiene relacion (1) con otro nodo, este se mete a la cola y se marca como visitado\n",
    "                    self.__visitados[i] = True\n",
    "                    self.__cola.append(i)\n",
    "\n",
    "    def profundidad_grafo_no_dirigido(self):\n",
    "        self.__pila = []  # Lista para representar la cola\n",
    "        self.__pila.append(0)  # Metemos a la cola el 0 para representar el vertice A\n",
    "        self.__visitados = [True, False, False, False, False, False]\n",
    "\n",
    "        print(\"El recorrido por anchura es: \")\n",
    "        while len(self.__pila) != 0:  # Mientras la cola no este vacia\n",
    "            element = self.__pila.pop()  # Sacamos el primer elemento de la cola\n",
    "            print(chr(element + 65))\n",
    "\n",
    "            for i, relacion in enumerate(\n",
    "                self.grafo_ND[element]\n",
    "            ):  # Checamos las relaciones del nodo actual con todos los demas nodos\n",
    "                if (\n",
    "                    relacion and self.__visitados[i] == False\n",
    "                ):  # Si aun no se visita el nodo y se tiene relacion (1) con otro nodo, este se mete a la cola y se marca como visitado\n",
    "                    self.__visitados[i] = True\n",
    "                    self.__pila.append(i)"
   ]
  },
  {
   "cell_type": "code",
   "execution_count": 35,
   "id": "ae735525",
   "metadata": {},
   "outputs": [
    {
     "name": "stdout",
     "output_type": "stream",
     "text": [
      "El recorrido por anchura es: \n",
      "A\n",
      "D\n",
      "E\n",
      "B\n",
      "C\n",
      "F\n"
     ]
    }
   ],
   "source": [
    "obj = Unidad4()\n",
    "obj.anchura_grafo_dirigido()"
   ]
  },
  {
   "cell_type": "code",
   "execution_count": 73,
   "id": "cdafa81e",
   "metadata": {},
   "outputs": [
    {
     "name": "stdout",
     "output_type": "stream",
     "text": [
      "El recorrido por anchura es: \n",
      "A\n",
      "D\n",
      "E\n",
      "F\n",
      "C\n"
     ]
    }
   ],
   "source": [
    "obj.anchura_grafo_no_dirigido()"
   ]
  },
  {
   "cell_type": "code",
   "execution_count": 74,
   "id": "2137b1bd",
   "metadata": {},
   "outputs": [
    {
     "name": "stdout",
     "output_type": "stream",
     "text": [
      "El recorrido por profundidad es: \n",
      "A\n",
      "E\n",
      "F\n",
      "C\n",
      "B\n",
      "D\n"
     ]
    }
   ],
   "source": [
    "obj.profundidad_grafo_dirigido()"
   ]
  },
  {
   "cell_type": "code",
   "execution_count": 81,
   "id": "510706b2",
   "metadata": {},
   "outputs": [
    {
     "name": "stdout",
     "output_type": "stream",
     "text": [
      "El recorrido por anchura es: \n",
      "A\n",
      "E\n",
      "F\n",
      "C\n",
      "D\n"
     ]
    }
   ],
   "source": [
    "obj.profundidad_grafo_no_dirigido()"
   ]
  },
  {
   "cell_type": "markdown",
   "id": "e44b7868",
   "metadata": {},
   "source": [
    "### Comparacion de DFS y BFS\n",
    "\n",
    "Se pueden utilizar los mismos algoritmos o códigos de DFS y BFS tanto para grafos dirigidos y no dirigidos. Sin embargo se pueden notar algunos puntos debido a la naturaleza de los grafos.\n",
    "\n",
    "* **Salida o resultado:** En los grafos dirigidos, los aristas tienen una dirección, por lo que ese arista solo se puede tomar de una forma, mientras que en los grafos no dirigidos los aristas no tienen dirección y estos se pueden tomar en ambas direcciones, esto afectará la forma en la que se realizan los recorridos.\n",
    "\n",
    "* **Nodos inalcanzables:** En grafos dirigidos, algunos nodos pueden ser inalcanzables desde ciertos nodos de partida debido a la dirección de las aristas. Esto puede influir en el número de nodos alcanzables durante el recorrido BFS y podría generar componentes conexos distintos en comparación con un grafo no dirigido.\n",
    "\n",
    "* **Complejidad temporal:** Ambos algoritmos son lineales en el número de nodos y aristas del grafo, independientemente si el grafo es dirigido o no dirigido, por lo que tanto el BFS y DFS en grafos dirigidos y no dirigidos tendrán la misma complejidad temporal.\n",
    "\n",
    "* **Aplicaciones:** A pesar de las diferencias, BFS y DFS en grafos dirigidos se usa en muchas aplicaciones similares a las de los grafos no dirigidos, como encontrar el camino más corto entre dos nodos, verificar la conectividad entre nodos, determinar la estructura del grafo, etc."
   ]
  },
  {
   "cell_type": "markdown",
   "id": "42a282cc",
   "metadata": {},
   "source": [
    "### A continuacion se redactan los N *problemas* de ***Pareo de Grafos***.\n",
    "\n",
    "* **Problema 1:** Encuentre la determinante de la siguiente matriz.\n",
    "\n",
    "$ M = \\begin {pmatrix}\n",
    "    1 & 2 & 3\\\\\n",
    "    4 & 5 & 6\n",
    "    \\end {pmatrix} \\in \\mathbb R_{2\\times3}\n",
    "$\n",
    "\n",
    "\n",
    "* **Problema 2:** Encuentre una base para el siguiente vector.\n",
    "\n",
    "$\\vec{v} = (v_1, v_2, v_3, \\cdots, v_n) \\in \\mathbb R^n$\n",
    "\n",
    "\n",
    "* **Problema 3:** Calcule el siguiente determinante mediant cofactores.\n",
    "\n",
    "$\\det A =  \\begin {vmatrix}\n",
    "    8 & 4 & 1 & 4\\\\\n",
    "    9 & 1 & 3 & 1\\\\\n",
    "    1 & 2 & 5 & 43\\\\\n",
    "    \\end {vmatrix}$\n",
    "\n",
    "* **Problema 4:** Encuentre la determinante de la siguiente matriz.\n",
    "\n",
    "$ M = \\begin {pmatrix}\n",
    "    1 & 2 & 3\\\\\n",
    "    4 & 5 & 6\n",
    "    \\end {pmatrix} \\in \\mathbb R_{2\\times3}\n",
    "$\n",
    "\n",
    "\n",
    "* **Problema 5:** Encuentre una base para el siguiente vector.\n",
    "\n",
    "$\\vec{v} = (v_1, v_2, v_3, \\cdots, v_n) \\in \\mathbb R^n$"
   ]
  },
  {
   "cell_type": "code",
   "execution_count": null,
   "id": "6cda9eed",
   "metadata": {},
   "outputs": [],
   "source": []
  }
 ],
 "metadata": {
  "kernelspec": {
   "display_name": "Python 3 (ipykernel)",
   "language": "python",
   "name": "python3"
  },
  "language_info": {
   "codemirror_mode": {
    "name": "ipython",
    "version": 3
   },
   "file_extension": ".py",
   "mimetype": "text/x-python",
   "name": "python",
   "nbconvert_exporter": "python",
   "pygments_lexer": "ipython3",
   "version": "3.11.5"
  }
 },
 "nbformat": 4,
 "nbformat_minor": 5
}
